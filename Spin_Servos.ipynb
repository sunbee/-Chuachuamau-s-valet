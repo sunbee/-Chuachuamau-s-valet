{
 "cells": [
  {
   "cell_type": "code",
   "execution_count": 1,
   "metadata": {},
   "outputs": [],
   "source": [
    "# Use tha Adafruit library for PCA9685 \n",
    "import Adafruit_PCA9685\n",
    "import time\n",
    "\n",
    "# Note: Install with pip3 for Python 3 "
   ]
  },
  {
   "cell_type": "code",
   "execution_count": 2,
   "metadata": {},
   "outputs": [],
   "source": [
    "pwm = Adafruit_PCA9685.PCA9685()\n",
    "pwm.set_pwm_freq(60)\n",
    "\n",
    "# Note: Default address on i2c bus of\n",
    "# 1. PCA9685 is 0x40\n",
    "# 2. ADS1115 is 0x48\n",
    "# Use 'sudo i2c detect -y 1' to check"
   ]
  },
  {
   "cell_type": "code",
   "execution_count": 25,
   "metadata": {
    "scrolled": true
   },
   "outputs": [],
   "source": [
    "def runServo(pinNumber, shaftPosition):\n",
    "    # Legacy code for standard servo motor\n",
    "    pulseWidth_start = 150   # 0 degrees\n",
    "    pulseWidth_finish = 650  # 180 degrees\n",
    "    pulseWidth = 150 + (shaftPosition * (650 - 150) / 180) \n",
    "    pwm.set_pwm(pinNumber, 0, int(pulseWidth))\n",
    "    print('Turning {} by {} degrees with {} setting.'.format(pinNumber, shaftPosition, int(pulseWidth)))\n",
    "\n",
    "def spinServo(pinNumber, rotationSpeed):\n",
    "    # Adaptation for continuous rotation servo motor\n",
    "    pwm.set_pwm(pinNumber, 0, rotationSpeed)\n",
    "    print('Spinning {} at {} setting.'.format(pinNumber, rotationSpeed))\n",
    "    time.sleep(2)"
   ]
  },
  {
   "cell_type": "code",
   "execution_count": 26,
   "metadata": {},
   "outputs": [
    {
     "name": "stdout",
     "output_type": "stream",
     "text": [
      "Spinning 0 at 340 setting.\n",
      "Spinning 0 at 345 setting.\n",
      "Spinning 0 at 350 setting.\n",
      "Spinning 0 at 355 setting.\n",
      "Spinning 0 at 360 setting.\n",
      "Spinning 0 at 365 setting.\n",
      "Spinning 0 at 370 setting.\n",
      "Spinning 0 at 375 setting.\n",
      "Spinning 0 at 380 setting.\n",
      "Spinning 0 at 385 setting.\n",
      "Spinning 0 at 390 setting.\n",
      "Spinning 0 at 395 setting.\n",
      "Spinning 0 at 400 setting.\n",
      "Spinning 4 at 340 setting.\n",
      "Spinning 4 at 345 setting.\n",
      "Spinning 4 at 350 setting.\n",
      "Spinning 4 at 355 setting.\n",
      "Spinning 4 at 360 setting.\n",
      "Spinning 4 at 365 setting.\n",
      "Spinning 4 at 370 setting.\n",
      "Spinning 4 at 375 setting.\n",
      "Spinning 4 at 380 setting.\n",
      "Spinning 4 at 385 setting.\n",
      "Spinning 4 at 390 setting.\n",
      "Spinning 4 at 395 setting.\n",
      "Spinning 4 at 400 setting.\n"
     ]
    }
   ],
   "source": [
    "# Sweep through the servo's range of motion\n",
    "# Facing the motor shaft for clockwise and anti-clockwise reference,\n",
    "# imagine a control knob that turns all the way from left (0 deg) to right (180 deg) \n",
    "# through a center (90 deg). Corresponding markings are 340 (min) to 405 (max)\n",
    "# through a midpoint of 370 (mid.) The mid point represents lo \n",
    "# and turning the knob left of center operates the motor clockwise at higher speed\n",
    "# whereas turning the knob right of center operates the motor anti-clockwise at higher speed.\n",
    "\n",
    "def sweepServo(pinNumber):\n",
    "    [spinServo(pinNumber, x) for x in range(340, 405, 5)]\n",
    "    pwm.set_pwm(pinNumber, 0, 0)\n",
    "\n",
    "sweepServo(0)\n",
    "sweepServo(4)\n"
   ]
  },
  {
   "cell_type": "code",
   "execution_count": 40,
   "metadata": {},
   "outputs": [],
   "source": [
    "# Move buggy forward\n",
    "# The motor on the left side must turn anti-clockwise \n",
    "# The motor on the right side must turn clockwise \n",
    "\n",
    "def moveForward_maximumSpeed(leftNumber, rightNumber):\n",
    "    pwm.set_pwm(leftNumber, 0, 400)\n",
    "    pwm.set_pwm(rightNumber, 0, 340)\n",
    "    \n",
    "def moveReverse_maximumSpeed(leftNumber, rightNumber):\n",
    "    pwm.set_pwm(leftNumber, 0, 340)\n",
    "    pwm.set_pwm(rightNumber, 0, 400)\n",
    "    \n",
    "def halt(leftNumber, rightNumber):\n",
    "    pwm.set_pwm(leftNumber, 0, 0)\n",
    "    pwm.set_pwm(rightNumber, 0, 0)\n",
    "    \n",
    "leftNumber = 0\n",
    "rightNumber = 4\n",
    "moveForward_maximumSpeed(leftNumber, rightNumber)\n",
    "time.sleep(10)\n",
    "halt(leftNumber, rightNumber)\n",
    "time.sleep(2)\n",
    "moveReverse_maximumSpeed(leftNumber, rightNumber)\n",
    "time.sleep(10)\n",
    "halt(leftNumber, rightNumber)"
   ]
  },
  {
   "cell_type": "code",
   "execution_count": 38,
   "metadata": {},
   "outputs": [],
   "source": []
  },
  {
   "cell_type": "code",
   "execution_count": 31,
   "metadata": {},
   "outputs": [],
   "source": []
  },
  {
   "cell_type": "code",
   "execution_count": null,
   "metadata": {},
   "outputs": [],
   "source": []
  }
 ],
 "metadata": {
  "kernelspec": {
   "display_name": "Python 3",
   "language": "python",
   "name": "python3"
  },
  "language_info": {
   "codemirror_mode": {
    "name": "ipython",
    "version": 3
   },
   "file_extension": ".py",
   "mimetype": "text/x-python",
   "name": "python",
   "nbconvert_exporter": "python",
   "pygments_lexer": "ipython3",
   "version": "3.5.3"
  }
 },
 "nbformat": 4,
 "nbformat_minor": 2
}
