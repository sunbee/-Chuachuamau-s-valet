{
 "cells": [
  {
   "cell_type": "code",
   "execution_count": 1,
   "metadata": {},
   "outputs": [],
   "source": [
    "# Use tha Adafruit library for PCA9685 \n",
    "import Adafruit_ADS1x15\n",
    "import time\n",
    "\n",
    "# Note: Install with pip3 for Python 3 "
   ]
  },
  {
   "cell_type": "code",
   "execution_count": 2,
   "metadata": {},
   "outputs": [],
   "source": [
    "adc = Adafruit_ADS1x15.ADS1115()\n",
    "\n",
    "# Note: Default address on i2c bus of\n",
    "# 1. PCA9685 is 0x40\n",
    "# 2. ADS1115 is 0x48\n",
    "# Use 'sudo i2c detect -y 1' to check"
   ]
  },
  {
   "cell_type": "code",
   "execution_count": 9,
   "metadata": {},
   "outputs": [
    {
     "name": "stdout",
     "output_type": "stream",
     "text": [
      "Got   4792\n",
      "Got  16338\n",
      "Got   4782\n",
      "Got   4805\n",
      "|   4794 |  16338 |   4816 |   4767 |\n",
      "[16339, 16338, 16338, 16339, 16339, 16339, 16339, 16339, 16340, 16339, 16340, 16340, 16340, 16340, 16340, 16339, 16340, 16339, 16339, 16338, 16339, 16340, 16339, 16340, 16341, 16340, 16340, 16340, 16341, 16340, 16340, 16339, 16340, 16340, 16339, 16341, 16340, 16340, 16340, 16340, 16340, 16340, 16340, 16340, 16340, 16340, 16340, 16340, 16340, 16340, 16340, 16340, 16340, 16341, 16340, 16340, 16340, 16341, 16340, 16340, 16340, 16340, 16340, 16339, 16339, 16341, 16339, 16340, 16340, 16340, 16339, 16339, 16340, 16340, 16340, 16340, 16340, 16339, 16340, 16340, 16340, 16339, 16340, 16338, 16338, 16338, 16339, 16338, 16338, 16339, 16338, 16338, 16338, 16338, 16338, 16338, 16338, 16338, 16339, 16338]\n"
     ]
    }
   ],
   "source": [
    "def readADC(channel, GAIN):\n",
    "    reading = adc.read_adc(channel, gain=GAIN)\n",
    "    print('Got {0:>6}'.format(reading))\n",
    "   \n",
    "# Scan all 4 channels.\n",
    "readADC(0, 1)\n",
    "readADC(1, 1)\n",
    "readADC(2, 1)\n",
    "readADC(3, 1)\n",
    "\n",
    "# Scan all 4 channels.\n",
    "readings = [adc.read_adc(i, gain=1) for i in range(4)]\n",
    "print('| {0:>6} | {1:>6} | {2:>6} | {3:>6} |'.format(*readings))\n",
    "\n",
    "# Poll one channel 99 times\n",
    "A01 = [adc.read_adc(1, gain=1) for i in range(100)]\n",
    "print(A01)\n"
   ]
  },
  {
   "cell_type": "code",
   "execution_count": null,
   "metadata": {},
   "outputs": [],
   "source": []
  },
  {
   "cell_type": "code",
   "execution_count": null,
   "metadata": {},
   "outputs": [],
   "source": []
  },
  {
   "cell_type": "code",
   "execution_count": null,
   "metadata": {},
   "outputs": [],
   "source": []
  }
 ],
 "metadata": {
  "kernelspec": {
   "display_name": "Python 3",
   "language": "python",
   "name": "python3"
  },
  "language_info": {
   "codemirror_mode": {
    "name": "ipython",
    "version": 3
   },
   "file_extension": ".py",
   "mimetype": "text/x-python",
   "name": "python",
   "nbconvert_exporter": "python",
   "pygments_lexer": "ipython3",
   "version": "3.5.3"
  }
 },
 "nbformat": 4,
 "nbformat_minor": 2
}
