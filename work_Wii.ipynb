{
 "cells": [
  {
   "cell_type": "code",
   "execution_count": 4,
   "metadata": {},
   "outputs": [],
   "source": [
    "import evdev\n",
    "\n",
    "# Pair the bluetooth controller\n",
    "# Use the bluetooth icon in the tray (recommended)\n",
    "# Use the terminal and the following commands:\n",
    "# 1. sudo bluetoothctl (launch bluetooth control application)\n",
    "# 2. power on \n",
    "# 3. agent on \n",
    "# 4. defaut-agent\n",
    "# 5. scan on\n",
    "# 6. pair XX:XX:XX:XX:XX:XX\n",
    "\n",
    "# Input devices like keyboard, mouse, usb or bluetooth controllers \n",
    "# can be accessed from an associated folder. To detect the folder\n",
    "# disconnect the device and execute the command:\n",
    "# ls /dev/input\n",
    "# Then, again after connecting (pairing) the device.\n",
    "\n",
    "# For pairing the Wii, press buttons 1 and 2 at the same time.\n",
    "# Or press the red button after removing the battery cover.\n",
    "# The four blue LEDs at the bottom of the Wiimote will blink\n",
    "# while pairing is in progress, then one will stay on\n",
    "# to indicate pairing is completed.\n",
    "\n",
    "# Complete these steps first before proceeding to the next step."
   ]
  },
  {
   "cell_type": "code",
   "execution_count": 24,
   "metadata": {},
   "outputs": [
    {
     "name": "stdout",
     "output_type": "stream",
     "text": [
      "device /dev/input/event4, name \"Nintendo Wii Remote\", phys \"\"\n",
      "event at 1542341809.656406, code 257, type 01, val 01\n",
      "Switched to mode 1.\n",
      "event at 1542341809.898987, code 257, type 01, val 00\n",
      "event at 1542341811.912798, code 258, type 01, val 01\n",
      "Switched to mode 2.\n",
      "event at 1542341812.106577, code 258, type 01, val 00\n",
      "event at 1542341817.840575, code 108, type 01, val 01\n",
      "Coming lower.\n",
      "event at 1542341817.958048, code 108, type 01, val 00\n",
      "event at 1542341820.524465, code 108, type 01, val 01\n",
      "Coming lower.\n",
      "event at 1542341820.668224, code 108, type 01, val 00\n",
      "event at 1542341821.310701, code 108, type 01, val 01\n",
      "Coming lower.\n",
      "event at 1542341821.479465, code 108, type 01, val 00\n",
      "event at 1542341823.764586, code 103, type 01, val 01\n",
      "Going higher.\n",
      "event at 1542341823.962095, code 103, type 01, val 00\n",
      "event at 1542341825.464723, code 103, type 01, val 01\n",
      "Going higher.\n",
      "event at 1542341825.610944, code 103, type 01, val 00\n"
     ]
    }
   ],
   "source": [
    "from evdev import InputDevice, categorize, ecodes\n",
    "wiimote = InputDevice('/dev/input/event4')\n",
    "print(wiimote)\n",
    "\n",
    "keyStroke_1 = 257\n",
    "keyStroke_2 = 258\n",
    "keyStroke_upArrow = 103\n",
    "keyStroke_dnArrow = 108\n",
    "\n",
    "for wiievent in wiimote.read_loop():\n",
    "    # Exit gracefully when '+' key is pressed\n",
    "    if wiievent.code == 407 and wiievent.value == 1:\n",
    "        break\n",
    "    # Filter for events of type \"key pressed\"\n",
    "    if wiievent.type == ecodes.EV_KEY:\n",
    "        print(wiievent)\n",
    "        if wiievent.value == 1:\n",
    "            if wiievent.code == keyStroke_1:\n",
    "                print(\"Switched to mode 1.\")\n",
    "            elif wiievent.code == keyStroke_2:\n",
    "                print(\"Switched to mode 2.\")\n",
    "            elif wiievent.code == keyStroke_upArrow:\n",
    "                print(\"Going higher.\")\n",
    "            elif wiievent.code == keyStroke_dnArrow:\n",
    "                print(\"Coming lower.\")\n",
    "            else:\n",
    "                print(\"No action.\")\n",
    "    \n",
    "# See: https://stackoverflow.com/questions/24426451/how-to-terminate-loop-gracefully-when-ctrlc-was-pressed-in-python\n",
    "tried = \"\"\"\n",
    "stored_exception = None\n",
    "\n",
    "for wiievent in wiimote.read_loop():\n",
    "    try:\n",
    "        print(categorize(wiievent))\n",
    "        if stored_exception:\n",
    "            break\n",
    "    except KeyboardInterrupt:\n",
    "        stored_exception = sys.exc_info()\n",
    "\"\"\"        "
   ]
  },
  {
   "cell_type": "code",
   "execution_count": null,
   "metadata": {},
   "outputs": [],
   "source": []
  }
 ],
 "metadata": {
  "kernelspec": {
   "display_name": "Python 3",
   "language": "python",
   "name": "python3"
  },
  "language_info": {
   "codemirror_mode": {
    "name": "ipython",
    "version": 3
   },
   "file_extension": ".py",
   "mimetype": "text/x-python",
   "name": "python",
   "nbconvert_exporter": "python",
   "pygments_lexer": "ipython3",
   "version": "3.5.3"
  }
 },
 "nbformat": 4,
 "nbformat_minor": 2
}
