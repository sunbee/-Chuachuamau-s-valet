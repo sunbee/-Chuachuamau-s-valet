{
 "cells": [
  {
   "cell_type": "code",
   "execution_count": 1,
   "metadata": {},
   "outputs": [],
   "source": [
    "# Use tha Adafruit library for PCA9685 \n",
    "import Adafruit_PCA9685\n",
    "import time\n",
    "\n",
    "# Note: Install with pip3 for Python 3 "
   ]
  },
  {
   "cell_type": "code",
   "execution_count": 6,
   "metadata": {},
   "outputs": [],
   "source": [
    "pwm = Adafruit_PCA9685.PCA9685()\n",
    "pwm.set_pwm_freq(60)\n",
    "\n",
    "# Note: Default address on i2c bus of\n",
    "# 1. PCA9685 is 0x40\n",
    "# 2. ADS1115 is 0x48\n",
    "# Use 'sudo i2c detect -y 1' to check"
   ]
  },
  {
   "cell_type": "code",
   "execution_count": 39,
   "metadata": {},
   "outputs": [
    {
     "name": "stdout",
     "output_type": "stream",
     "text": [
      "Spinning 0 at 375 setting, my master.\n",
      "Spinning 0 at 380 setting, my master.\n",
      "Spinning 0 at 385 setting, my master.\n",
      "Spinning 0 at 390 setting, my master.\n",
      "Spinning 0 at 395 setting, my master.\n",
      "Spinning 0 at 400 setting, my master.\n",
      "Spinning 0 at 405 setting, my master.\n",
      "Spinning 0 at 400 setting, my master.\n",
      "Spinning 0 at 395 setting, my master.\n",
      "Spinning 0 at 390 setting, my master.\n",
      "Spinning 0 at 385 setting, my master.\n",
      "Spinning 0 at 380 setting, my master.\n",
      "Spinning 0 at 375 setting, my master.\n"
     ]
    },
    {
     "data": {
      "text/plain": [
       "[None, None, None, None, None, None, None]"
      ]
     },
     "execution_count": 39,
     "metadata": {},
     "output_type": "execute_result"
    }
   ],
   "source": [
    "def runServo(pinNumber, shaftPosition):\n",
    "    pulseWidth_start = 150   # 0 degrees\n",
    "    pulseWidth_finish = 650  # 180 degrees\n",
    "    pulseWidth = 150 + (shaftPosition * (650 - 150) / 180) \n",
    "    pwm.set_pwm(pinNumber, 0, int(pulseWidth))\n",
    "    print('Turning {} by {} degrees with {} setting.'.format(pinNumber, shaftPosition, int(pulseWidth)))\n",
    "\n",
    "def spinServo(pinNumber, someRotation):\n",
    "    pwm.set_pwm(0, 0, someRotation)\n",
    "    print('Spinning {} at {} setting, my master.'.format(pinNumber, someRotation))\n",
    "    time.sleep(2)\n",
    "\n",
    "# Turn anti-clockwise- 375 onward\n",
    "lo_antiClockwise = 375\n",
    "hi_antiClockwise = 405\n",
    "[spinServo(0, x) for x in range(lo_antiClockwise, hi_antiClockwise, 5)]\n",
    "[spinServo(0, x) for x in range(hi_antiClockwise, lo_antiClockwise-1, -5)]"
   ]
  },
  {
   "cell_type": "code",
   "execution_count": 45,
   "metadata": {},
   "outputs": [],
   "source": [
    "pwm.set_pwm(0, 0, 0)"
   ]
  },
  {
   "cell_type": "code",
   "execution_count": 44,
   "metadata": {},
   "outputs": [
    {
     "name": "stdout",
     "output_type": "stream",
     "text": [
      "Spinning 0 at 370 setting, my master.\n",
      "Spinning 0 at 365 setting, my master.\n",
      "Spinning 0 at 360 setting, my master.\n",
      "Spinning 0 at 355 setting, my master.\n",
      "Spinning 0 at 350 setting, my master.\n",
      "Spinning 0 at 345 setting, my master.\n",
      "Spinning 0 at 350 setting, my master.\n",
      "Spinning 0 at 355 setting, my master.\n",
      "Spinning 0 at 360 setting, my master.\n",
      "Spinning 0 at 365 setting, my master.\n",
      "Spinning 0 at 370 setting, my master.\n"
     ]
    },
    {
     "data": {
      "text/plain": [
       "[None, None, None, None, None, None]"
      ]
     },
     "execution_count": 44,
     "metadata": {},
     "output_type": "execute_result"
    }
   ],
   "source": [
    "# Turn clockwise- 370 backward\n",
    "lo_clockwise = 370\n",
    "hi_clockwise = 345\n",
    "[spinServo(0, x) for x in range(lo_clockwise, hi_clockwise, -5)]\n",
    "[spinServo(0, x) for x in range(hi_clockwise, lo_clockwise+1, 5)]"
   ]
  },
  {
   "cell_type": "code",
   "execution_count": null,
   "metadata": {},
   "outputs": [],
   "source": []
  }
 ],
 "metadata": {
  "kernelspec": {
   "display_name": "Python 3",
   "language": "python",
   "name": "python3"
  },
  "language_info": {
   "codemirror_mode": {
    "name": "ipython",
    "version": 3
   },
   "file_extension": ".py",
   "mimetype": "text/x-python",
   "name": "python",
   "nbconvert_exporter": "python",
   "pygments_lexer": "ipython3",
   "version": "3.5.3"
  }
 },
 "nbformat": 4,
 "nbformat_minor": 2
}
