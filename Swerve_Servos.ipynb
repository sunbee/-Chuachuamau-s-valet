{
 "cells": [
  {
   "cell_type": "code",
   "execution_count": 1,
   "metadata": {},
   "outputs": [],
   "source": [
    "# Use tha Adafruit library for PCA9685 \n",
    "import Adafruit_PCA9685\n",
    "import time\n",
    "\n",
    "# Note: Install with pip3 for Python 3 "
   ]
  },
  {
   "cell_type": "code",
   "execution_count": 2,
   "metadata": {},
   "outputs": [],
   "source": [
    "pwm = Adafruit_PCA9685.PCA9685()\n",
    "pwm.set_pwm_freq(60)\n",
    "\n",
    "# Note: Default address on i2c bus of\n",
    "# 1. PCA9685 is 0x40\n",
    "# 2. ADS1115 is 0x48\n",
    "# Use 'sudo i2c detect -y 1' to check"
   ]
  },
  {
   "cell_type": "code",
   "execution_count": 3,
   "metadata": {},
   "outputs": [
    {
     "name": "stdout",
     "output_type": "stream",
     "text": [
      "Turning 0 by 15 degrees with 191 setting.\n",
      "Turning 4 by 15 degrees with 191 setting.\n",
      "Turning 8 by 15 degrees with 191 setting.\n",
      "Turning 11 by 15 degrees with 191 setting.\n",
      "Turning 0 by 45 degrees with 275 setting.\n",
      "Turning 4 by 45 degrees with 275 setting.\n",
      "Turning 8 by 45 degrees with 275 setting.\n",
      "Turning 11 by 45 degrees with 275 setting.\n",
      "Turning 0 by 90 degrees with 400 setting.\n",
      "Turning 4 by 90 degrees with 400 setting.\n",
      "Turning 8 by 90 degrees with 400 setting.\n",
      "Turning 11 by 90 degrees with 400 setting.\n",
      "Turning 0 by 135 degrees with 525 setting.\n",
      "Turning 4 by 135 degrees with 525 setting.\n",
      "Turning 8 by 135 degrees with 525 setting.\n",
      "Turning 11 by 135 degrees with 525 setting.\n",
      "Turning 0 by 165 degrees with 608 setting.\n",
      "Turning 4 by 165 degrees with 608 setting.\n",
      "Turning 8 by 165 degrees with 608 setting.\n",
      "Turning 11 by 165 degrees with 608 setting.\n",
      "Turning 0 by 135 degrees with 525 setting.\n",
      "Turning 4 by 135 degrees with 525 setting.\n",
      "Turning 8 by 135 degrees with 525 setting.\n",
      "Turning 11 by 135 degrees with 525 setting.\n",
      "Turning 0 by 90 degrees with 400 setting.\n",
      "Turning 4 by 90 degrees with 400 setting.\n",
      "Turning 8 by 90 degrees with 400 setting.\n",
      "Turning 11 by 90 degrees with 400 setting.\n",
      "Turning 0 by 45 degrees with 275 setting.\n",
      "Turning 4 by 45 degrees with 275 setting.\n",
      "Turning 8 by 45 degrees with 275 setting.\n",
      "Turning 11 by 45 degrees with 275 setting.\n",
      "Turning 0 by 15 degrees with 191 setting.\n",
      "Turning 4 by 15 degrees with 191 setting.\n",
      "Turning 8 by 15 degrees with 191 setting.\n",
      "Turning 11 by 15 degrees with 191 setting.\n"
     ]
    },
    {
     "data": {
      "text/plain": [
       "[None, None, None, None]"
      ]
     },
     "execution_count": 3,
     "metadata": {},
     "output_type": "execute_result"
    }
   ],
   "source": [
    "def runServo(pinNumber, shaftPosition):\n",
    "    pulseWidth_start = 150   # 0 degrees\n",
    "    pulseWidth_finish = 650  # 180 degrees\n",
    "    pulseWidth = 150 + (shaftPosition * (650 - 150) / 180) \n",
    "    pwm.set_pwm(pinNumber, 0, int(pulseWidth))\n",
    "    print('Turning {} by {} degrees with {} setting.'.format(pinNumber, shaftPosition, int(pulseWidth)))\n",
    "    \n",
    "motors = [0, 4, 8, 11]\n",
    "[runServo(x, 15) for x in motors]\n",
    "time.sleep(2)\n",
    "[runServo(x, 45) for x in motors]\n",
    "time.sleep(2)\n",
    "[runServo(x, 90) for x in motors]\n",
    "time.sleep(2)\n",
    "[runServo(x, 135) for x in motors]\n",
    "time.sleep(2)\n",
    "[runServo(x, 165) for x in motors]\n",
    "time.sleep(2)\n",
    "[runServo(x, 135) for x in motors]\n",
    "time.sleep(2)\n",
    "[runServo(x, 90) for x in motors]\n",
    "time.sleep(2)\n",
    "[runServo(x, 45) for x in motors]\n",
    "time.sleep(2)\n",
    "[runServo(x, 15) for x in motors]"
   ]
  },
  {
   "cell_type": "code",
   "execution_count": null,
   "metadata": {},
   "outputs": [],
   "source": []
  },
  {
   "cell_type": "code",
   "execution_count": null,
   "metadata": {},
   "outputs": [],
   "source": []
  },
  {
   "cell_type": "code",
   "execution_count": null,
   "metadata": {},
   "outputs": [],
   "source": []
  }
 ],
 "metadata": {
  "kernelspec": {
   "display_name": "Python 3",
   "language": "python",
   "name": "python3"
  },
  "language_info": {
   "codemirror_mode": {
    "name": "ipython",
    "version": 3
   },
   "file_extension": ".py",
   "mimetype": "text/x-python",
   "name": "python",
   "nbconvert_exporter": "python",
   "pygments_lexer": "ipython3",
   "version": "3.5.3"
  }
 },
 "nbformat": 4,
 "nbformat_minor": 2
}
